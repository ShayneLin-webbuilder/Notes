{
 "cells": [
  {
   "cell_type": "code",
   "execution_count": 1,
   "id": "d8e018ed",
   "metadata": {},
   "outputs": [],
   "source": [
    "import numpy as np"
   ]
  },
  {
   "cell_type": "code",
   "execution_count": 3,
   "id": "bfbfcaca",
   "metadata": {},
   "outputs": [
    {
     "name": "stdout",
     "output_type": "stream",
     "text": [
      "[1 2 3]\n"
     ]
    },
    {
     "data": {
      "text/plain": [
       "array([1, 2, 3])"
      ]
     },
     "execution_count": 3,
     "metadata": {},
     "output_type": "execute_result"
    }
   ],
   "source": [
    "a=np.array([1,2,3])\n",
    "print(a)\n",
    "a"
   ]
  },
  {
   "cell_type": "code",
   "execution_count": 4,
   "id": "1c057b01",
   "metadata": {},
   "outputs": [
    {
     "data": {
      "text/plain": [
       "1"
      ]
     },
     "execution_count": 4,
     "metadata": {},
     "output_type": "execute_result"
    }
   ],
   "source": [
    "a[0]"
   ]
  },
  {
   "cell_type": "code",
   "execution_count": 5,
   "id": "a68e8f2f",
   "metadata": {},
   "outputs": [
    {
     "data": {
      "text/plain": [
       "2"
      ]
     },
     "execution_count": 5,
     "metadata": {},
     "output_type": "execute_result"
    }
   ],
   "source": [
    "a[1]"
   ]
  },
  {
   "cell_type": "code",
   "execution_count": 9,
   "id": "6aed1a4c",
   "metadata": {},
   "outputs": [],
   "source": [
    "import time\n",
    "import sys\n",
    "#  time to import the time module so that we can time it \n",
    "#  sys is the system module so that we can see how much memory we can use. "
   ]
  },
  {
   "cell_type": "code",
   "execution_count": 12,
   "id": "ff55ddda",
   "metadata": {},
   "outputs": [
    {
     "name": "stdout",
     "output_type": "stream",
     "text": [
      "28000\n",
      "28\n",
      "1000\n"
     ]
    }
   ],
   "source": [
    "b=range(1000) \n",
    "# create a list of 1000, from 0 to 999, stops before 1000.\n",
    "print(sys.getsizeof(5)*len(b))\n",
    "print(sys.getsizeof(5))\n",
    "print(len(b))\n",
    "# getsizeof() to see the memory of 5, which is 28\n",
    "# len(b) to see the length of list b, which is 1000"
   ]
  },
  {
   "cell_type": "code",
   "execution_count": 13,
   "id": "49ea238c",
   "metadata": {},
   "outputs": [
    {
     "name": "stdout",
     "output_type": "stream",
     "text": [
      "8000\n",
      "8\n",
      "1000\n"
     ]
    }
   ],
   "source": [
    "c = np.arange(1000)\n",
    "print(c.itemsize*c.size)\n",
    "print(c.itemsize)\n",
    "print(c.size)\n",
    "# therefore, size of per number is 20 byte less than using system."
   ]
  },
  {
   "cell_type": "code",
   "execution_count": null,
   "id": "49d3aea4",
   "metadata": {},
   "outputs": [],
   "source": []
  }
 ],
 "metadata": {
  "kernelspec": {
   "display_name": "Python 3",
   "language": "python",
   "name": "python3"
  },
  "language_info": {
   "codemirror_mode": {
    "name": "ipython",
    "version": 3
   },
   "file_extension": ".py",
   "mimetype": "text/x-python",
   "name": "python",
   "nbconvert_exporter": "python",
   "pygments_lexer": "ipython3",
   "version": "3.8.8"
  }
 },
 "nbformat": 4,
 "nbformat_minor": 5
}
