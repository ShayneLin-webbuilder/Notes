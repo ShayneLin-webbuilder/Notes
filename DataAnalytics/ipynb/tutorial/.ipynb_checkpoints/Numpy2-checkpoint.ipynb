{
 "cells": [
  {
   "cell_type": "markdown",
   "id": "39f5dde3",
   "metadata": {},
   "source": [
    "## Array Manipulation"
   ]
  },
  {
   "cell_type": "markdown",
   "id": "133e5012",
   "metadata": {},
   "source": [
    "## Array Manipulation - changing shape"
   ]
  },
  {
   "cell_type": "code",
   "execution_count": 2,
   "id": "be04891a",
   "metadata": {},
   "outputs": [
    {
     "name": "stdout",
     "output_type": "stream",
     "text": [
      "The original array:\n",
      "[0 1 2 3 4 5 6 7 8]\n",
      "\n",
      "the modified array:\n",
      "[[0 1 2]\n",
      " [3 4 5]\n",
      " [6 7 8]]\n"
     ]
    }
   ],
   "source": [
    "import numpy as np\n",
    "\n",
    "a = np.arange(9)\n",
    "print('The original array:')\n",
    "print(a)\n",
    "print()\n",
    "\n",
    "b=a.reshape(3,3)\n",
    "print(\"the modified array:\")\n",
    "print(b) "
   ]
  },
  {
   "cell_type": "code",
   "execution_count": 3,
   "id": "38718330",
   "metadata": {},
   "outputs": [
    {
     "name": "stdout",
     "output_type": "stream",
     "text": [
      "[0 1 2 3 4 5 6 7 8]\n"
     ]
    }
   ],
   "source": [
    "print(b.flatten())"
   ]
  },
  {
   "cell_type": "code",
   "execution_count": 4,
   "id": "18963b08",
   "metadata": {},
   "outputs": [
    {
     "data": {
      "text/plain": [
       "array([0, 3, 6, 1, 4, 7, 2, 5, 8])"
      ]
     },
     "execution_count": 4,
     "metadata": {},
     "output_type": "execute_result"
    }
   ],
   "source": [
    "b.flatten(order=\"F\")"
   ]
  },
  {
   "cell_type": "code",
   "execution_count": 11,
   "id": "0aeb4fdc",
   "metadata": {},
   "outputs": [
    {
     "name": "stdout",
     "output_type": "stream",
     "text": [
      "[[0 1 2]\n",
      " [3 4 5]\n",
      " [6 7 8]]\n"
     ]
    },
    {
     "data": {
      "text/plain": [
       "array([[0, 1, 2],\n",
       "       [3, 4, 5],\n",
       "       [6, 7, 8]])"
      ]
     },
     "execution_count": 11,
     "metadata": {},
     "output_type": "execute_result"
    }
   ],
   "source": [
    "b.flatten(order=\"c\")\n",
    "print(b)\n",
    "b\n",
    "# Return a copy of the array collapsed into one dimension."
   ]
  },
  {
   "cell_type": "code",
   "execution_count": 10,
   "id": "27f726d5",
   "metadata": {},
   "outputs": [
    {
     "name": "stdout",
     "output_type": "stream",
     "text": [
      "[[ 0  1  2]\n",
      " [ 3  4  5]\n",
      " [ 6  7  8]\n",
      " [ 9 10 11]]\n"
     ]
    },
    {
     "data": {
      "text/plain": [
       "array([[ 0,  1,  2],\n",
       "       [ 3,  4,  5],\n",
       "       [ 6,  7,  8],\n",
       "       [ 9, 10, 11]])"
      ]
     },
     "execution_count": 10,
     "metadata": {},
     "output_type": "execute_result"
    }
   ],
   "source": [
    "a = np.arange(12).reshape(4,3)\n",
    "print(a)\n",
    "a"
   ]
  },
  {
   "cell_type": "code",
   "execution_count": 12,
   "id": "e65583b7",
   "metadata": {},
   "outputs": [
    {
     "data": {
      "text/plain": [
       "array([[ 0,  3,  6,  9],\n",
       "       [ 1,  4,  7, 10],\n",
       "       [ 2,  5,  8, 11]])"
      ]
     },
     "execution_count": 12,
     "metadata": {},
     "output_type": "execute_result"
    }
   ],
   "source": [
    "np.transpose(a)"
   ]
  },
  {
   "cell_type": "code",
   "execution_count": 13,
   "id": "4829dd10",
   "metadata": {},
   "outputs": [
    {
     "data": {
      "text/plain": [
       "array([[0, 1, 2, 3],\n",
       "       [4, 5, 6, 7]])"
      ]
     },
     "execution_count": 13,
     "metadata": {},
     "output_type": "execute_result"
    }
   ],
   "source": [
    "b = np.arange(8).reshape(2,4)\n",
    "b"
   ]
  },
  {
   "cell_type": "code",
   "execution_count": 15,
   "id": "fcecbde8",
   "metadata": {},
   "outputs": [],
   "source": [
    "c = b.reshape(2,2,2)\n",
    "# then we have two different groups of two variables of two dimensions."
   ]
  },
  {
   "cell_type": "code",
   "execution_count": 16,
   "id": "e483ba69",
   "metadata": {},
   "outputs": [
    {
     "data": {
      "text/plain": [
       "array([[[0, 2],\n",
       "        [1, 3]],\n",
       "\n",
       "       [[4, 6],\n",
       "        [5, 7]]])"
      ]
     },
     "execution_count": 16,
     "metadata": {},
     "output_type": "execute_result"
    }
   ],
   "source": [
    "np.rollaxis(c,2,1)"
   ]
  },
  {
   "cell_type": "code",
   "execution_count": 20,
   "id": "4b659dbd",
   "metadata": {},
   "outputs": [
    {
     "data": {
      "text/plain": [
       "array([[[0, 1],\n",
       "        [4, 5]],\n",
       "\n",
       "       [[2, 3],\n",
       "        [6, 7]]])"
      ]
     },
     "execution_count": 20,
     "metadata": {},
     "output_type": "execute_result"
    }
   ],
   "source": [
    "np.rollaxis(c,1)"
   ]
  },
  {
   "cell_type": "code",
   "execution_count": 22,
   "id": "017402fa",
   "metadata": {},
   "outputs": [
    {
     "data": {
      "text/plain": [
       "array([[[0, 2],\n",
       "        [1, 3]],\n",
       "\n",
       "       [[4, 6],\n",
       "        [5, 7]]])"
      ]
     },
     "execution_count": 22,
     "metadata": {},
     "output_type": "execute_result"
    }
   ],
   "source": [
    "np.swapaxes(c,1,2)"
   ]
  },
  {
   "cell_type": "markdown",
   "id": "85c974ae",
   "metadata": {},
   "source": [
    "## Numpy Arithematic Operations"
   ]
  },
  {
   "cell_type": "code",
   "execution_count": 3,
   "id": "77d8a080",
   "metadata": {},
   "outputs": [
    {
     "data": {
      "text/plain": [
       "array([[0, 1, 2],\n",
       "       [3, 4, 5],\n",
       "       [6, 7, 8]])"
      ]
     },
     "execution_count": 3,
     "metadata": {},
     "output_type": "execute_result"
    }
   ],
   "source": [
    "a = np.arange(9).reshape(3,3)\n",
    "a"
   ]
  },
  {
   "cell_type": "code",
   "execution_count": 9,
   "id": "9ccd5525",
   "metadata": {},
   "outputs": [
    {
     "data": {
      "text/plain": [
       "array([  10,  100, 1000])"
      ]
     },
     "execution_count": 9,
     "metadata": {},
     "output_type": "execute_result"
    }
   ],
   "source": [
    "b = np.array([10,100,1000])\n",
    "b"
   ]
  },
  {
   "cell_type": "code",
   "execution_count": 10,
   "id": "063d8720",
   "metadata": {},
   "outputs": [
    {
     "data": {
      "text/plain": [
       "array([[  10,  101, 1002],\n",
       "       [  13,  104, 1005],\n",
       "       [  16,  107, 1008]])"
      ]
     },
     "execution_count": 10,
     "metadata": {},
     "output_type": "execute_result"
    }
   ],
   "source": [
    "np.add(a,b)"
   ]
  },
  {
   "cell_type": "code",
   "execution_count": 11,
   "id": "17f5ba8f",
   "metadata": {},
   "outputs": [
    {
     "data": {
      "text/plain": [
       "array([[ -10,  -99, -998],\n",
       "       [  -7,  -96, -995],\n",
       "       [  -4,  -93, -992]])"
      ]
     },
     "execution_count": 11,
     "metadata": {},
     "output_type": "execute_result"
    }
   ],
   "source": [
    "np.subtract(a,b)"
   ]
  },
  {
   "cell_type": "code",
   "execution_count": 12,
   "id": "c2dfc627",
   "metadata": {},
   "outputs": [
    {
     "data": {
      "text/plain": [
       "array([[   0,  100, 2000],\n",
       "       [  30,  400, 5000],\n",
       "       [  60,  700, 8000]])"
      ]
     },
     "execution_count": 12,
     "metadata": {},
     "output_type": "execute_result"
    }
   ],
   "source": [
    "np.multiply(a,b)"
   ]
  },
  {
   "cell_type": "code",
   "execution_count": 13,
   "id": "03add608",
   "metadata": {},
   "outputs": [
    {
     "data": {
      "text/plain": [
       "array([[0.   , 0.01 , 0.002],\n",
       "       [0.3  , 0.04 , 0.005],\n",
       "       [0.6  , 0.07 , 0.008]])"
      ]
     },
     "execution_count": 13,
     "metadata": {},
     "output_type": "execute_result"
    }
   ],
   "source": [
    "np.divide(a,b)"
   ]
  },
  {
   "cell_type": "code",
   "execution_count": null,
   "id": "c3421586",
   "metadata": {},
   "outputs": [],
   "source": [
    "# Please refer to docs.scipy.org/doc/numpy-1.13.0/reference/routines.math.html\n",
    "# for more formulas for arithmatic."
   ]
  },
  {
   "cell_type": "markdown",
   "id": "f48c4530",
   "metadata": {},
   "source": [
    "# Slicing"
   ]
  },
  {
   "cell_type": "code",
   "execution_count": 14,
   "id": "079d49ef",
   "metadata": {},
   "outputs": [
    {
     "data": {
      "text/plain": [
       "array([ 0,  1,  2,  3,  4,  5,  6,  7,  8,  9, 10, 11, 12, 13, 14, 15, 16,\n",
       "       17, 18, 19])"
      ]
     },
     "execution_count": 14,
     "metadata": {},
     "output_type": "execute_result"
    }
   ],
   "source": [
    "a = np.arange(20)\n",
    "a"
   ]
  },
  {
   "cell_type": "code",
   "execution_count": 15,
   "id": "09c6073f",
   "metadata": {},
   "outputs": [
    {
     "data": {
      "text/plain": [
       "array([ 4,  5,  6,  7,  8,  9, 10, 11, 12, 13, 14, 15, 16, 17, 18, 19])"
      ]
     },
     "execution_count": 15,
     "metadata": {},
     "output_type": "execute_result"
    }
   ],
   "source": [
    "a[4:]"
   ]
  },
  {
   "cell_type": "code",
   "execution_count": 16,
   "id": "6eaf6298",
   "metadata": {},
   "outputs": [
    {
     "data": {
      "text/plain": [
       "array([0, 1, 2, 3])"
      ]
     },
     "execution_count": 16,
     "metadata": {},
     "output_type": "execute_result"
    }
   ],
   "source": [
    "a[:4]"
   ]
  },
  {
   "cell_type": "code",
   "execution_count": 17,
   "id": "43fdc69d",
   "metadata": {},
   "outputs": [
    {
     "data": {
      "text/plain": [
       "5"
      ]
     },
     "execution_count": 17,
     "metadata": {},
     "output_type": "execute_result"
    }
   ],
   "source": [
    "a[5]"
   ]
  },
  {
   "cell_type": "code",
   "execution_count": 20,
   "id": "675e8e60",
   "metadata": {},
   "outputs": [
    {
     "data": {
      "text/plain": [
       "array([2, 3, 4, 5, 6, 7, 8])"
      ]
     },
     "execution_count": 20,
     "metadata": {},
     "output_type": "execute_result"
    }
   ],
   "source": [
    "s = slice(2,9,1)\n",
    "# python works like 大于左边不包含，小于等于右边包含。\n",
    "a[s]"
   ]
  },
  {
   "cell_type": "markdown",
   "id": "c587559d",
   "metadata": {},
   "source": [
    "# Iterating Over Array"
   ]
  },
  {
   "cell_type": "code",
   "execution_count": 24,
   "id": "eb199672",
   "metadata": {},
   "outputs": [
    {
     "data": {
      "text/plain": [
       "array([[ 0,  5, 10],\n",
       "       [15, 20, 25],\n",
       "       [30, 35, 40]])"
      ]
     },
     "execution_count": 24,
     "metadata": {},
     "output_type": "execute_result"
    }
   ],
   "source": [
    "a = np.arange(0,45,5)\n",
    "# when you are creating a list, it is different though for the range. It will \n",
    "# create a list starting from the left, and then it will go to before the right\n",
    "# number\n",
    "a = a.reshape(3,3)\n",
    "a"
   ]
  },
  {
   "cell_type": "code",
   "execution_count": 25,
   "id": "c757c29d",
   "metadata": {},
   "outputs": [
    {
     "name": "stdout",
     "output_type": "stream",
     "text": [
      "0\n",
      "5\n",
      "10\n",
      "15\n",
      "20\n",
      "25\n",
      "30\n",
      "35\n",
      "40\n"
     ]
    }
   ],
   "source": [
    "for x in np.nditer(a):\n",
    "    print(x)"
   ]
  },
  {
   "cell_type": "markdown",
   "id": "7521b408",
   "metadata": {},
   "source": [
    "# Iteration order (c-style and f-style)"
   ]
  },
  {
   "cell_type": "code",
   "execution_count": 26,
   "id": "c5d48f3d",
   "metadata": {},
   "outputs": [
    {
     "name": "stdout",
     "output_type": "stream",
     "text": [
      "[[ 0  5 10]\n",
      " [15 20 25]\n",
      " [30 35 40]]\n"
     ]
    }
   ],
   "source": [
    "print(a)"
   ]
  },
  {
   "cell_type": "code",
   "execution_count": 27,
   "id": "9d04e725",
   "metadata": {},
   "outputs": [
    {
     "name": "stdout",
     "output_type": "stream",
     "text": [
      "0\n",
      "5\n",
      "10\n",
      "15\n",
      "20\n",
      "25\n",
      "30\n",
      "35\n",
      "40\n"
     ]
    }
   ],
   "source": [
    "for x in np.nditer(a,order = \"c\"):\n",
    "    print(x)"
   ]
  },
  {
   "cell_type": "code",
   "execution_count": 28,
   "id": "c74e19ec",
   "metadata": {},
   "outputs": [
    {
     "name": "stdout",
     "output_type": "stream",
     "text": [
      "0\n",
      "15\n",
      "30\n",
      "5\n",
      "20\n",
      "35\n",
      "10\n",
      "25\n",
      "40\n"
     ]
    }
   ],
   "source": [
    "for x in np.nditer(a,order = \"F\"):\n",
    "    print(x)"
   ]
  },
  {
   "cell_type": "markdown",
   "id": "cbb98dad",
   "metadata": {},
   "source": [
    "# Joinging arrays"
   ]
  },
  {
   "cell_type": "code",
   "execution_count": 34,
   "id": "c648ba54",
   "metadata": {},
   "outputs": [
    {
     "name": "stdout",
     "output_type": "stream",
     "text": [
      "first array\n",
      "[[1 2]\n",
      " [3 4]]\n",
      "second array\n",
      "[[5 6]\n",
      " [7 8]]\n",
      "\n",
      "\n",
      "Joing the two arrays along axis 0:\n",
      "[[1 2]\n",
      " [3 4]\n",
      " [5 6]\n",
      " [7 8]]\n",
      "\n",
      "\n",
      "Joing the two arrays along axis 1:\n",
      "[[1 2 5 6]\n",
      " [3 4 7 8]]\n"
     ]
    }
   ],
   "source": [
    "a = np.array([[1,2],[3,4]])\n",
    "print('first array')\n",
    "print(a)\n",
    "b = np.array([[5,6],[7,8]])\n",
    "print('second array')\n",
    "print(b)\n",
    "print('\\n')\n",
    "print(\"Joing the two arrays along axis 0:\")\n",
    "print(np.concatenate((a,b)))\n",
    "print('\\n')\n",
    "print(\"Joing the two arrays along axis 1:\")\n",
    "print(np.concatenate((a,b),axis=1))"
   ]
  },
  {
   "cell_type": "markdown",
   "id": "399236a4",
   "metadata": {},
   "source": [
    "# Splitting Arrays"
   ]
  },
  {
   "cell_type": "code",
   "execution_count": 37,
   "id": "4a9b66fa",
   "metadata": {},
   "outputs": [
    {
     "name": "stdout",
     "output_type": "stream",
     "text": [
      "[0 1 2 3 4 5 6 7 8]\n"
     ]
    },
    {
     "data": {
      "text/plain": [
       "[array([0, 1, 2]), array([3, 4, 5]), array([6, 7, 8])]"
      ]
     },
     "execution_count": 37,
     "metadata": {},
     "output_type": "execute_result"
    }
   ],
   "source": [
    "a = np.arange(9)\n",
    "print(a)\n",
    "np.split(a,3)"
   ]
  },
  {
   "cell_type": "code",
   "execution_count": 38,
   "id": "bd349b54",
   "metadata": {},
   "outputs": [
    {
     "data": {
      "text/plain": [
       "[array([0, 1, 2, 3]), array([4]), array([5, 6, 7, 8])]"
      ]
     },
     "execution_count": 38,
     "metadata": {},
     "output_type": "execute_result"
    }
   ],
   "source": [
    "np.split(a,[4,5])"
   ]
  },
  {
   "cell_type": "code",
   "execution_count": 39,
   "id": "9f63c180",
   "metadata": {},
   "outputs": [
    {
     "data": {
      "text/plain": [
       "[array([0, 1, 2, 3]), array([4, 5]), array([6, 7, 8])]"
      ]
     },
     "execution_count": 39,
     "metadata": {},
     "output_type": "execute_result"
    }
   ],
   "source": [
    "np.split(a,[4,6])\n",
    "# 从4以后开始分割，然后在position 6停下来。"
   ]
  },
  {
   "cell_type": "code",
   "execution_count": 40,
   "id": "1433d208",
   "metadata": {},
   "outputs": [
    {
     "data": {
      "text/plain": [
       "[array([0, 1, 2, 3]), array([4]), array([5, 6]), array([7, 8])]"
      ]
     },
     "execution_count": 40,
     "metadata": {},
     "output_type": "execute_result"
    }
   ],
   "source": [
    "np.split(a,[4,5,7])"
   ]
  },
  {
   "cell_type": "markdown",
   "id": "8a213492",
   "metadata": {},
   "source": [
    "# Resizing an array"
   ]
  },
  {
   "cell_type": "code",
   "execution_count": 44,
   "id": "20d059db",
   "metadata": {},
   "outputs": [
    {
     "name": "stdout",
     "output_type": "stream",
     "text": [
      "[[1 2 3]\n",
      " [4 5 6]]\n",
      "(2, 3)\n",
      "\n",
      "\n",
      "[[1 2]\n",
      " [3 4]\n",
      " [5 6]]\n",
      "(3, 2)\n",
      "\n",
      "\n",
      "[[1 2 3]\n",
      " [4 5 6]\n",
      " [1 2 3]]\n",
      "(3, 3)\n"
     ]
    }
   ],
   "source": [
    "a = np.array([[1,2,3],[4,5,6]])\n",
    "print(a)\n",
    "print(a.shape)\n",
    "print(\"\\n\")\n",
    "b = np.resize(a,(3,2))\n",
    "print(b)\n",
    "print(b.shape)\n",
    "print('\\n')\n",
    "b = np.resize(a,(3,3))\n",
    "print(b)\n",
    "print(b.shape)"
   ]
  },
  {
   "cell_type": "markdown",
   "id": "c8b1a436",
   "metadata": {},
   "source": [
    "# histogram"
   ]
  },
  {
   "cell_type": "code",
   "execution_count": 45,
   "id": "54e0e33f",
   "metadata": {},
   "outputs": [
    {
     "data": {
      "image/png": "[encoded data removed]",
      "text/plain": [
       "<Figure size 432x288 with 1 Axes>"
      ]
     },
     "metadata": {
      "needs_background": "light"
     },
     "output_type": "display_data"
    }
   ],
   "source": [
    "from matplotlib import pyplot as plt\n",
    "a = np.array([20,87,4,40,53,74,56,51,11,20,40,15,79,25,27])\n",
    "plt.hist(a,bins = [0,20,40,60,80,100])\n",
    "plt.title(\"histogram\")\n",
    "plt.show()"
   ]
  },
  {
   "cell_type": "code",
   "execution_count": 46,
   "id": "2e19690b",
   "metadata": {},
   "outputs": [
    {
     "data": {
      "image/png": "[encoded data removed]",
      "text/plain": [
       "<Figure size 432x288 with 1 Axes>"
      ]
     },
     "metadata": {
      "needs_background": "light"
     },
     "output_type": "display_data"
    }
   ],
   "source": [
    "plt.hist(a,bins = [0,10,20,30,40,50,60,70,80,90,100])\n",
    "plt.title(\"histogram\")\n",
    "plt.show()"
   ]
  },
  {
   "cell_type": "markdown",
   "id": "0f5cecae",
   "metadata": {},
   "source": [
    "# Other useful functions in numpy"
   ]
  },
  {
   "cell_type": "code",
   "execution_count": 47,
   "id": "d8ae1c0e",
   "metadata": {},
   "outputs": [
    {
     "name": "stdout",
     "output_type": "stream",
     "text": [
      "[1.         1.22222222 1.44444444 1.66666667 1.88888889 2.11111111\n",
      " 2.33333333 2.55555556 2.77777778 3.        ]\n"
     ]
    }
   ],
   "source": [
    "#linspace function\n",
    "\n",
    "a=np.linspace(1,3,10)\n",
    "print(a)"
   ]
  },
  {
   "cell_type": "code",
   "execution_count": 49,
   "id": "04780c78",
   "metadata": {},
   "outputs": [
    {
     "name": "stdout",
     "output_type": "stream",
     "text": [
      "[ 6 12]\n"
     ]
    }
   ],
   "source": [
    "# sum and axis\n",
    "\n",
    "a = np.array([(1,2,3),(3,4,5)])\n",
    "print(a.sum(axis=1))"
   ]
  },
  {
   "cell_type": "code",
   "execution_count": 53,
   "id": "5a41324a",
   "metadata": {},
   "outputs": [
    {
     "name": "stdout",
     "output_type": "stream",
     "text": [
      "[4 6 8]\n"
     ]
    }
   ],
   "source": [
    "#sum and axis\n",
    "\n",
    "a=np.array([(1,2,3),(3,4,5)])\n",
    "print(a.sum(axis=0))\n",
    "print(np.std(a))"
   ]
  },
  {
   "cell_type": "code",
   "execution_count": 56,
   "id": "8273d7f1",
   "metadata": {},
   "outputs": [
    {
     "name": "stdout",
     "output_type": "stream",
     "text": [
      "[[1.         1.41421356 1.73205081]\n",
      " [1.73205081 2.         2.23606798]]\n",
      "1.2909944487358056\n"
     ]
    }
   ],
   "source": [
    "#square root and standard deviation\n",
    "\n",
    "a=np.array([(1,2,3),(3,4,5,)])\n",
    "print(np.sqrt(a))\n",
    "print(np.std(a))"
   ]
  },
  {
   "cell_type": "code",
   "execution_count": 57,
   "id": "74a12d62",
   "metadata": {},
   "outputs": [
    {
     "name": "stdout",
     "output_type": "stream",
     "text": [
      "[1 2 3 3 4 5]\n"
     ]
    }
   ],
   "source": [
    "#ravel function\n",
    "\n",
    "import numpy as np\n",
    "x=np.array([(1,2,3),(3,4,5)])\n",
    "print(x.ravel())\n",
    "\n",
    "# this is similar to the flatten function"
   ]
  },
  {
   "cell_type": "code",
   "execution_count": 59,
   "id": "2e8445dc",
   "metadata": {},
   "outputs": [
    {
     "name": "stdout",
     "output_type": "stream",
     "text": [
      "[0.         0.30103    0.47712125]\n"
     ]
    }
   ],
   "source": [
    "a=np.array([1,2,3])\n",
    "print(np.log10(a))"
   ]
  },
  {
   "cell_type": "markdown",
   "id": "0c53625d",
   "metadata": {},
   "source": [
    "# Numpy Practice Example"
   ]
  },
  {
   "cell_type": "code",
   "execution_count": 62,
   "id": "5c0c8df5",
   "metadata": {},
   "outputs": [
    {
     "data": {
      "image/png": "[encoded data removed]",
      "text/plain": [
       "<Figure size 432x288 with 1 Axes>"
      ]
     },
     "metadata": {
      "needs_background": "light"
     },
     "output_type": "display_data"
    }
   ],
   "source": [
    "#Now using numpy and matplotlib, let us try to plot a sin graph\n",
    "import numpy as np\n",
    "import matplotlib.pyplot as plt\n",
    "\n",
    "x= np.arange(0,3*np.pi,0.1)\n",
    "y = np.sin(x)\n",
    "plt.plot(x,y)\n",
    "plt.show()"
   ]
  },
  {
   "cell_type": "code",
   "execution_count": 68,
   "id": "3af1041f",
   "metadata": {},
   "outputs": [
    {
     "data": {
      "text/plain": [
       "array([[0, 2, 0, 2, 0, 2],\n",
       "       [1, 2, 1, 2, 1, 2],\n",
       "       [0, 0, 0, 0, 0, 0],\n",
       "       [1, 0, 1, 0, 1, 0],\n",
       "       [0, 0, 0, 0, 0, 0],\n",
       "       [1, 0, 1, 0, 1, 0]])"
      ]
     },
     "execution_count": 68,
     "metadata": {},
     "output_type": "execute_result"
    }
   ],
   "source": [
    "# Create a 6*6 two-dimensional array, and let 1 and 0 be placed \n",
    "# alternatively across the diagonals\n",
    "\n",
    "Z = np.zeros((6,6),dtype=int)\n",
    "Z[1::2,::2] = 1\n",
    "Z[:2,1::2] = 2\n",
    "Z\n",
    "\n"
   ]
  },
  {
   "cell_type": "code",
   "execution_count": 83,
   "id": "5bbcd200",
   "metadata": {},
   "outputs": [
    {
     "data": {
      "text/plain": [
       "array([[0.04843713, 0.96833062, 0.56048444, 0.13265706, 0.96232864,\n",
       "        0.70839572, 0.78007037, 0.43659935, 0.43525619,        nan],\n",
       "       [0.43491405, 0.7981531 , 0.60241063, 0.30312291, 0.41519867,\n",
       "        0.11289082, 0.01668731, 0.28162609, 0.37676947, 0.71151529],\n",
       "       [0.69533201, 0.08282961, 0.02104729, 0.1856575 , 0.18264282,\n",
       "               nan, 0.85130944, 0.9796825 , 0.5258148 , 0.38045742],\n",
       "       [0.39673658, 0.22887518, 0.57793517, 0.52153118, 0.262439  ,\n",
       "        0.75201115, 0.32930796, 0.85027533, 0.02435722, 0.23493555],\n",
       "       [0.64820766, 0.76624937, 0.16003247, 0.59014038, 0.4947555 ,\n",
       "        0.09389368, 0.10809119, 0.35498472, 0.75316404, 0.54958163],\n",
       "       [0.63897696, 0.74938141,        nan, 0.46797292, 0.86640835,\n",
       "        0.9636532 ,        nan,        nan, 0.67490071, 0.29887245],\n",
       "       [0.89412468, 0.11300703, 0.77400739, 0.02231238, 0.466748  ,\n",
       "        0.75490663, 0.94266904, 0.60638267, 0.16298312, 0.93681828],\n",
       "       [0.57855293, 0.68784494, 0.74133027, 0.59312681, 0.37549432,\n",
       "        0.01959573, 0.00546706, 0.35313715, 0.33217555, 0.94581038],\n",
       "       [0.32669771, 0.44727739, 0.99917541, 0.31827111, 0.8676833 ,\n",
       "        0.86149956, 0.15336223, 0.57459281, 0.98676607, 0.54441084],\n",
       "       [0.75017654, 0.72054391, 0.53706529, 0.06834258, 0.79887727,\n",
       "        0.67073803, 0.868348  , 0.05886321, 0.51696431, 0.22764331]])"
      ]
     },
     "execution_count": 83,
     "metadata": {},
     "output_type": "execute_result"
    }
   ],
   "source": [
    "# Find the total number and locations of missing values in the array\n",
    "Z = np.random.rand(10,10)\n",
    "Z[np.random.randint(10, size=5),np.random.randint(10,size=5)] = np.nan\n",
    "Z"
   ]
  },
  {
   "cell_type": "code",
   "execution_count": 81,
   "id": "cb7c37be",
   "metadata": {},
   "outputs": [
    {
     "name": "stdout",
     "output_type": "stream",
     "text": [
      "Total number of missing values: \n",
      " 5\n"
     ]
    }
   ],
   "source": [
    "print(\"Total number of missing values: \\n\", np.isnan(Z).sum())"
   ]
  },
  {
   "cell_type": "code",
   "execution_count": 91,
   "id": "049c7428",
   "metadata": {},
   "outputs": [
    {
     "name": "stdout",
     "output_type": "stream",
     "text": [
      "Indexes of missing values: \n",
      " []\n",
      "(array([], dtype=int64), array([], dtype=int64))\n"
     ]
    },
    {
     "data": {
      "text/plain": [
       "array([[0.04843713, 0.96833062, 0.56048444, 0.13265706, 0.96232864,\n",
       "        0.70839572, 0.78007037, 0.43659935, 0.43525619, 0.        ],\n",
       "       [0.43491405, 0.7981531 , 0.60241063, 0.30312291, 0.41519867,\n",
       "        0.11289082, 0.01668731, 0.28162609, 0.37676947, 0.71151529],\n",
       "       [0.69533201, 0.08282961, 0.02104729, 0.1856575 , 0.18264282,\n",
       "        0.        , 0.85130944, 0.9796825 , 0.5258148 , 0.38045742],\n",
       "       [0.39673658, 0.22887518, 0.57793517, 0.52153118, 0.262439  ,\n",
       "        0.75201115, 0.32930796, 0.85027533, 0.02435722, 0.23493555],\n",
       "       [0.64820766, 0.76624937, 0.16003247, 0.59014038, 0.4947555 ,\n",
       "        0.09389368, 0.10809119, 0.35498472, 0.75316404, 0.54958163],\n",
       "       [0.63897696, 0.74938141, 0.        , 0.46797292, 0.86640835,\n",
       "        0.9636532 , 0.        , 0.        , 0.67490071, 0.29887245],\n",
       "       [0.89412468, 0.11300703, 0.77400739, 0.02231238, 0.466748  ,\n",
       "        0.75490663, 0.94266904, 0.60638267, 0.16298312, 0.93681828],\n",
       "       [0.57855293, 0.68784494, 0.74133027, 0.59312681, 0.37549432,\n",
       "        0.01959573, 0.00546706, 0.35313715, 0.33217555, 0.94581038],\n",
       "       [0.32669771, 0.44727739, 0.99917541, 0.31827111, 0.8676833 ,\n",
       "        0.86149956, 0.15336223, 0.57459281, 0.98676607, 0.54441084],\n",
       "       [0.75017654, 0.72054391, 0.53706529, 0.06834258, 0.79887727,\n",
       "        0.67073803, 0.868348  , 0.05886321, 0.51696431, 0.22764331]])"
      ]
     },
     "execution_count": 91,
     "metadata": {},
     "output_type": "execute_result"
    }
   ],
   "source": [
    "print(\"Indexes of missing values: \\n\", np.argwhere(np.isnan(Z)))\n",
    "inds = np.where(np.isnan(Z))\n",
    "print(inds)\n",
    "Z[inds]=0\n",
    "Z"
   ]
  },
  {
   "cell_type": "code",
   "execution_count": null,
   "id": "ae82c7b1",
   "metadata": {},
   "outputs": [],
   "source": [
    "# Please refer to docs.scipy.org/doc/numpy-1.13.0/reference/routines.math.html\n",
    "# for more formulas for arithmatic."
   ]
  }
 ],
 "metadata": {
  "kernelspec": {
   "display_name": "Python 3",
   "language": "python",
   "name": "python3"
  },
  "language_info": {
   "codemirror_mode": {
    "name": "ipython",
    "version": 3
   },
   "file_extension": ".py",
   "mimetype": "text/x-python",
   "name": "python",
   "nbconvert_exporter": "python",
   "pygments_lexer": "ipython3",
   "version": "3.8.8"
  }
 },
 "nbformat": 4,
 "nbformat_minor": 5
}
